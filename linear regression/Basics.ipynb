{
 "cells": [
  {
   "cell_type": "code",
   "execution_count": 1,
   "id": "0c92bfd8",
   "metadata": {},
   "outputs": [
    {
     "name": "stdout",
     "output_type": "stream",
     "text": [
      "This is my 1st day\n"
     ]
    }
   ],
   "source": [
    "print(\"This is my 1st day\")"
   ]
  },
  {
   "cell_type": "code",
   "execution_count": 9,
   "id": "897c3229",
   "metadata": {},
   "outputs": [
    {
     "name": "stdout",
     "output_type": "stream",
     "text": [
      "enter somethinng123\n",
      "this my statement : 123\n",
      "<class 'int'>\n"
     ]
    }
   ],
   "source": [
    "m=int(input(\"enter somethinng\"))\n",
    "print(\"this my statement :\",m)\n",
    "print(type(m))"
   ]
  },
  {
   "cell_type": "code",
   "execution_count": 12,
   "id": "74c53ee5",
   "metadata": {},
   "outputs": [
    {
     "name": "stdout",
     "output_type": "stream",
     "text": [
      "enter somethinng7\n",
      "enter somethinng8\n"
     ]
    }
   ],
   "source": [
    "m=int(input(\"enter somethinng\"))\n",
    "n=int(input(\"enter somethinng\"))\n"
   ]
  },
  {
   "cell_type": "code",
   "execution_count": 13,
   "id": "6b673329",
   "metadata": {},
   "outputs": [
    {
     "data": {
      "text/plain": [
       "15"
      ]
     },
     "execution_count": 13,
     "metadata": {},
     "output_type": "execute_result"
    }
   ],
   "source": [
    "m+n"
   ]
  },
  {
   "cell_type": "code",
   "execution_count": 28,
   "id": "da24695c",
   "metadata": {},
   "outputs": [],
   "source": [
    "l=[1,2,4,2.4,\"shiva\", \"srinath\"]"
   ]
  },
  {
   "cell_type": "code",
   "execution_count": 33,
   "id": "177432be",
   "metadata": {},
   "outputs": [
    {
     "name": "stdout",
     "output_type": "stream",
     "text": [
      "shiva\n",
      "srinath\n"
     ]
    }
   ],
   "source": [
    "for ele in l:\n",
    "    #print(type(ele))\n",
    "    if type(ele) is str: \n",
    "        print(ele)\n",
    "    else:\n",
    "        pass\n",
    "    "
   ]
  },
  {
   "cell_type": "code",
   "execution_count": 16,
   "id": "85ca74bb",
   "metadata": {},
   "outputs": [],
   "source": [
    "import os"
   ]
  },
  {
   "cell_type": "code",
   "execution_count": 17,
   "id": "baaeec91",
   "metadata": {},
   "outputs": [
    {
     "data": {
      "text/plain": [
       "['.ipynb_checkpoints',\n",
       " 'ai4i2020.csv',\n",
       " 'Basics.ipynb',\n",
       " 'CarPrice_Assignment.csv',\n",
       " 'Cars_data_linear.ipynb',\n",
       " 'Data Dictionary - carprices.xlsx',\n",
       " 'Linear.ipynb',\n",
       " 'Untitled.ipynb']"
      ]
     },
     "execution_count": 17,
     "metadata": {},
     "output_type": "execute_result"
    }
   ],
   "source": [
    "os.listdir()"
   ]
  },
  {
   "cell_type": "code",
   "execution_count": 18,
   "id": "d922f9be",
   "metadata": {},
   "outputs": [
    {
     "data": {
      "text/plain": [
       "'C:\\\\Users\\\\smallapalli\\\\Desktop\\\\Untitled Folder'"
      ]
     },
     "execution_count": 18,
     "metadata": {},
     "output_type": "execute_result"
    }
   ],
   "source": [
    "os.getcwd()"
   ]
  },
  {
   "cell_type": "code",
   "execution_count": null,
   "id": "9b730f81",
   "metadata": {},
   "outputs": [],
   "source": []
  }
 ],
 "metadata": {
  "kernelspec": {
   "display_name": "Python 3 (ipykernel)",
   "language": "python",
   "name": "python3"
  },
  "language_info": {
   "codemirror_mode": {
    "name": "ipython",
    "version": 3
   },
   "file_extension": ".py",
   "mimetype": "text/x-python",
   "name": "python",
   "nbconvert_exporter": "python",
   "pygments_lexer": "ipython3",
   "version": "3.9.13"
  }
 },
 "nbformat": 4,
 "nbformat_minor": 5
}
